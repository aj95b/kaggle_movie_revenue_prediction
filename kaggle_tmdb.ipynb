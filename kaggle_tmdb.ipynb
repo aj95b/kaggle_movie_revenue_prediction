{
  "nbformat": 4,
  "nbformat_minor": 0,
  "metadata": {
    "colab": {
      "provenance": []
    },
    "kernelspec": {
      "name": "python3",
      "display_name": "Python 3"
    },
    "language_info": {
      "name": "python"
    }
  },
  "cells": [
    {
      "cell_type": "markdown",
      "source": [
        "### **Box Office Revenue Prediction**"
      ],
      "metadata": {
        "id": "mnfZthSEVYAq"
      }
    },
    {
      "cell_type": "markdown",
      "source": [
        "Import libraries and read in data"
      ],
      "metadata": {
        "id": "PnwlJWu6KlYC"
      }
    },
    {
      "cell_type": "code",
      "execution_count": 1,
      "metadata": {
        "id": "3BIEQqtYq3L8"
      },
      "outputs": [],
      "source": [
        "import numpy as np\n",
        "import pandas as pd\n",
        "pd.set_option('max_columns', None)\n",
        "import matplotlib.pyplot as plt\n",
        "import seaborn as sns\n",
        "import ast\n",
        "from IPython.testing.skipdoctest import skip_doctest\n",
        "from xgboost import XGBRegressor\n",
        "from sklearn.impute import SimpleImputer\n",
        "from collections import Counter\n",
        "\n",
        "import numpy as np\n",
        "import pandas as pd\n",
        "import matplotlib.pyplot as plt\n",
        "import seaborn as sns\n",
        "from sklearn.metrics import r2_score, mean_absolute_error, mean_squared_error\n",
        "from wordcloud import WordCloud\n",
        "from sklearn.ensemble import RandomForestRegressor\n",
        "from sklearn.model_selection import train_test_split\n",
        "from sklearn.preprocessing import OneHotEncoder\n",
        "\n",
        "trainData = pd.read_csv('/train.csv',sep=',')\n",
        "train_data = trainData.copy()\n",
        "testData = pd.read_csv('/test.csv',sep=',')\n",
        "test_data = testData.copy()"
      ]
    },
    {
      "cell_type": "markdown",
      "source": [
        "Traverse coulmuns with dictionary using Anstract Syntax Tree to store individual values"
      ],
      "metadata": {
        "id": "W48rERNeM1Gr"
      }
    },
    {
      "cell_type": "code",
      "source": [
        "dict_columns = ['belongs_to_collection', 'genres', 'production_companies',\n",
        "                'production_countries', 'spoken_languages', 'Keywords', 'cast', 'crew']\n",
        "\n",
        "def text_to_dict(df):\n",
        "    for column in dict_columns:\n",
        "        df[column] = df[column].apply(lambda x: {} if pd.isna(x) else ast.literal_eval(x) )\n",
        "    return df\n",
        "        \n",
        "train_data = text_to_dict(train_data)\n",
        "test_data = text_to_dict(test_data)\n"
      ],
      "metadata": {
        "id": "CDt9NoedNhuk"
      },
      "execution_count": 2,
      "outputs": []
    },
    {
      "cell_type": "markdown",
      "source": [
        "Change variable with dictionaries to multiple variables with suitable values"
      ],
      "metadata": {
        "id": "_g4r-whNRxsH"
      }
    },
    {
      "cell_type": "code",
      "source": [
        "train_data['collection_name'] = train_data['belongs_to_collection'].apply(lambda x: x[0]['name'] if x != {} else 0)\n",
        "train_data['has_collection'] = train_data['belongs_to_collection'].apply(lambda x: len(x) if x != {} else 0)\n",
        "\n",
        "test_data['collection_name'] = test_data['belongs_to_collection'].apply(lambda x: x[0]['name'] if x != {} else 0)\n",
        "test_data['has_collection'] = test_data['belongs_to_collection'].apply(lambda x: len(x) if x != {} else 0)\n",
        "\n",
        "train_data = train_data.drop(['belongs_to_collection'], axis=1)\n",
        "test_data = test_data.drop(['belongs_to_collection'], axis=1)\n",
        "\n",
        "def mainGenre(df):\n",
        "    df['main_genre'] = df['genres'].apply(lambda x: x[0]['name'] if x != {} else 0)\n",
        "    df.loc[df['main_genre'] == 0, 'main_genre'] = 'zero'\n",
        "\n",
        "mainGenre(train_data)\n",
        "mainGenre(test_data)"
      ],
      "metadata": {
        "id": "4PIVgNCLSJc6"
      },
      "execution_count": 3,
      "outputs": []
    },
    {
      "cell_type": "markdown",
      "source": [
        "Convert the categorical \"main_genere\" variable created above to multiple one-hot encoded vectors, to see if movies with a specific main genre usually generate more revenue"
      ],
      "metadata": {
        "id": "sbFNxBc1TZqN"
      }
    },
    {
      "cell_type": "code",
      "source": [
        "one_hot = pd.get_dummies(train_data['main_genre'])\n",
        "train_data = train_data.join(one_hot)\n",
        "\n",
        "one_hot1 = pd.get_dummies(test_data['main_genre'])\n",
        "test_data = test_data.join(one_hot1)"
      ],
      "metadata": {
        "id": "Sn3rw4CjVptM"
      },
      "execution_count": 4,
      "outputs": []
    },
    {
      "cell_type": "markdown",
      "source": [
        "See the distribution of spoken languages for a movie"
      ],
      "metadata": {
        "id": "rLRW1qmsiJfp"
      }
    },
    {
      "cell_type": "code",
      "source": [
        "sns.set(rc = {'figure.figsize':(15,8)})\n",
        "sns.countplot(train_data['original_language'].sort_values())"
      ],
      "metadata": {
        "colab": {
          "base_uri": "https://localhost:8080/",
          "height": 576
        },
        "id": "BMRQ8iimiPtD",
        "outputId": "41f81eb9-9df9-44af-bc30-d0fc29817a5b"
      },
      "execution_count": 5,
      "outputs": [
        {
          "output_type": "stream",
          "name": "stderr",
          "text": [
            "/usr/local/lib/python3.8/dist-packages/seaborn/_decorators.py:36: FutureWarning: Pass the following variable as a keyword arg: x. From version 0.12, the only valid positional argument will be `data`, and passing other arguments without an explicit keyword will result in an error or misinterpretation.\n",
            "  warnings.warn(\n"
          ]
        },
        {
          "output_type": "execute_result",
          "data": {
            "text/plain": [
              "<matplotlib.axes._subplots.AxesSubplot at 0x7f257c1e1970>"
            ]
          },
          "metadata": {},
          "execution_count": 5
        },
        {
          "output_type": "display_data",
          "data": {
            "text/plain": [
              "<Figure size 1080x576 with 1 Axes>"
            ],
            "image/png": "[encoded data removed]"
          },
          "metadata": {}
        }
      ]
    },
    {
      "cell_type": "markdown",
      "source": [
        "Since most movies are in English, encode if the original language is English or not and whether there exists a homepage before the release"
      ],
      "metadata": {
        "id": "oXR61VpxYZ_p"
      }
    },
    {
      "cell_type": "code",
      "source": [
        "def ogLanguage(df):\n",
        "    df['original_language'] = df['original_language'].apply(lambda x: 1 if x == 'en' else 0)\n",
        "\n",
        "ogLanguage(train_data)\n",
        "ogLanguage(test_data)\n",
        "\n",
        "def homepageBinary(df):\n",
        "    df['homepage'] = df['homepage'].notnull().astype(int)\n",
        "homepageBinary(train_data)\n",
        "homepageBinary(test_data)"
      ],
      "metadata": {
        "id": "luwHE0O_YoPS"
      },
      "execution_count": 6,
      "outputs": []
    },
    {
      "cell_type": "markdown",
      "source": [
        "Calculate investment in movie for the given time, by encoding budget to year ratio"
      ],
      "metadata": {
        "id": "tFWgQI1-Y5JE"
      }
    },
    {
      "cell_type": "code",
      "source": [
        "def budget_year(df):    \n",
        "    df['release_date'] = pd.to_datetime(df['release_date'])\n",
        "    df['year'], df['month'] = df['release_date'].dt.year, df['release_date'].dt.month\n",
        "    \n",
        "    df['budget'] = df['budget'].fillna(df['budget'].mean())\n",
        "    \n",
        "    df['budget_year_ratio'] = df['budget'] / df['year']\n",
        "\n",
        "budget_year(train_data)\n",
        "budget_year(test_data)"
      ],
      "metadata": {
        "id": "Rr5qcfadZC-Z"
      },
      "execution_count": 7,
      "outputs": []
    },
    {
      "cell_type": "markdown",
      "source": [
        "Encode if the cast in the movie includes any popular actors"
      ],
      "metadata": {
        "id": "aa0oLZAuZ1M4"
      }
    },
    {
      "cell_type": "code",
      "source": [
        "def cast(df):\n",
        "    cast_names = list(df['cast'].apply(lambda x: [i['name'] for i in x] if x != {} else []).values)\n",
        "\n",
        "    cast_names = Counter([i for j in cast_names for i in j]).most_common()\n",
        "    \n",
        "    top_actors = [m[0] for m in cast_names][:40]\n",
        "    \n",
        "    df['popular_actors'] = df['cast'].apply(lambda x: 1 if any(m['name'] in top_actors for m in x) else 0)\n",
        "cast(train_data)\n",
        "cast(test_data)"
      ],
      "metadata": {
        "id": "IIShw8-vZ86y"
      },
      "execution_count": 8,
      "outputs": []
    },
    {
      "cell_type": "markdown",
      "source": [
        "Find out the main revenue generating companies and encode if one of the 'high_value' companies was involved with the movie or not as a binary"
      ],
      "metadata": {
        "id": "XPffOfDVaCOM"
      }
    },
    {
      "cell_type": "code",
      "source": [
        "def mpc(df):\n",
        "    main_company = []\n",
        "    for i in range(len(df)):\n",
        "\n",
        "        if(df['production_companies'].iloc[i] == {}):\n",
        "            main_company.append(None)\n",
        "        else:\n",
        "            main_company.append(df['production_companies'].iloc[i][0].get('name'))\n",
        "\n",
        "    df['main_production_company'] = main_company\n",
        "    companies = train_data.groupby('main_production_company')['revenue'].mean().sort_values(ascending=False)\n",
        "    companies = companies[0:18]\n",
        "    companies = list(companies.index.values) \n",
        "    #df.fillna(\"other\", inplace=True)\n",
        "    \n",
        "    df['high_value'] = 0\n",
        "    \n",
        "    df['high_value'] = df['main_production_company'].apply(lambda x: 1 if str(x) in companies else 0)\n",
        "    \n",
        "    \n",
        "mpc(train_data)\n",
        "mpc(test_data)"
      ],
      "metadata": {
        "id": "P0zV-OABaTuY"
      },
      "execution_count": 9,
      "outputs": []
    },
    {
      "cell_type": "markdown",
      "source": [
        "See the correlation of various variables with revnue"
      ],
      "metadata": {
        "id": "LMjWY5uObWdt"
      }
    },
    {
      "cell_type": "code",
      "source": [
        "corr_matrix = train_data.corr()\n",
        "corr_matrix['revenue'].sort_values(ascending= False)"
      ],
      "metadata": {
        "colab": {
          "base_uri": "https://localhost:8080/"
        },
        "id": "upaoSXG3bdGP",
        "outputId": "cb6435fc-9397-436f-8d82-7f8bcd197ad6"
      },
      "execution_count": 10,
      "outputs": [
        {
          "output_type": "execute_result",
          "data": {
            "text/plain": [
              "revenue              1.000000\n",
              "budget               0.752965\n",
              "budget_year_ratio    0.752618\n",
              "high_value           0.464191\n",
              "popularity           0.461460\n",
              "has_collection       0.339425\n",
              "homepage             0.263179\n",
              "Adventure            0.226857\n",
              "runtime              0.216380\n",
              "popular_actors       0.162181\n",
              "original_language    0.142130\n",
              "Animation            0.095393\n",
              "Action               0.089479\n",
              "Science Fiction      0.083127\n",
              "Family               0.072629\n",
              "month                0.020164\n",
              "Fantasy              0.017298\n",
              "year                 0.005087\n",
              "id                   0.000610\n",
              "Western             -0.000873\n",
              "TV Movie            -0.003283\n",
              "History             -0.011975\n",
              "Foreign             -0.012507\n",
              "Mystery             -0.014611\n",
              "Thriller            -0.014806\n",
              "Romance             -0.016572\n",
              "Music               -0.019562\n",
              "zero                -0.023076\n",
              "War                 -0.025223\n",
              "Horror              -0.030548\n",
              "Crime               -0.042763\n",
              "Comedy              -0.069268\n",
              "Documentary         -0.071543\n",
              "Drama               -0.127398\n",
              "Name: revenue, dtype: float64"
            ]
          },
          "metadata": {},
          "execution_count": 10
        }
      ]
    },
    {
      "cell_type": "markdown",
      "source": [
        "Observe distribution of highly correlated features"
      ],
      "metadata": {
        "id": "_14QXurXdzSU"
      }
    },
    {
      "cell_type": "code",
      "source": [
        "sns.set(rc = {'figure.figsize':(15,8)})\n",
        "plt.xlabel( 'budget')\n",
        "hist = plt.hist(train_data['budget'],bins = 50)"
      ],
      "metadata": {
        "colab": {
          "base_uri": "https://localhost:8080/",
          "height": 502
        },
        "id": "_0SspOCdd6GS",
        "outputId": "b0c7bc4e-5465-4781-ba7b-b49fcd1d7120"
      },
      "execution_count": 11,
      "outputs": [
        {
          "output_type": "display_data",
          "data": {
            "text/plain": [
              "<Figure size 1080x576 with 1 Axes>"
            ],
            "image/png": "[encoded data removed]"
          },
          "metadata": {}
        }
      ]
    },
    {
      "cell_type": "markdown",
      "source": [
        "Remove entries with extremely low budgets and log transform for better distribution"
      ],
      "metadata": {
        "id": "X2dN2quJe1Pv"
      }
    },
    {
      "cell_type": "code",
      "source": [
        "train_data = train_data[train_data['budget'] >= 100000]\n",
        "MEAN = train_data['budget'].mean()\n",
        "train_data['budget']= train_data['budget'].apply(lambda x : x+MEAN if x<100000  else x)\n",
        "train_data['log_budget'] = np.log1p(train_data['budget'])\n",
        "test_data['log_budget'] = np.log1p(test_data['budget'])\n",
        "plt.xlabel( 'log_budget')\n",
        "hist = plt.hist(train_data['log_budget'],bins = 20)"
      ],
      "metadata": {
        "colab": {
          "base_uri": "https://localhost:8080/",
          "height": 716
        },
        "id": "yCous4Fhe_n6",
        "outputId": "649ed180-4e8a-4b36-d99d-975d6e3613af"
      },
      "execution_count": 12,
      "outputs": [
        {
          "output_type": "stream",
          "name": "stderr",
          "text": [
            "<ipython-input-12-ea2139b45048>:3: SettingWithCopyWarning: \n",
            "A value is trying to be set on a copy of a slice from a DataFrame.\n",
            "Try using .loc[row_indexer,col_indexer] = value instead\n",
            "\n",
            "See the caveats in the documentation: https://pandas.pydata.org/pandas-docs/stable/user_guide/indexing.html#returning-a-view-versus-a-copy\n",
            "  train_data['budget']= train_data['budget'].apply(lambda x : x+MEAN if x<100000  else x)\n",
            "<ipython-input-12-ea2139b45048>:4: SettingWithCopyWarning: \n",
            "A value is trying to be set on a copy of a slice from a DataFrame.\n",
            "Try using .loc[row_indexer,col_indexer] = value instead\n",
            "\n",
            "See the caveats in the documentation: https://pandas.pydata.org/pandas-docs/stable/user_guide/indexing.html#returning-a-view-versus-a-copy\n",
            "  train_data['log_budget'] = np.log1p(train_data['budget'])\n"
          ]
        },
        {
          "output_type": "display_data",
          "data": {
            "text/plain": [
              "<Figure size 1080x576 with 1 Axes>"
            ],
            "image/png": "[encoded data removed]"
          },
          "metadata": {}
        }
      ]
    },
    {
      "cell_type": "markdown",
      "source": [
        "Similarly for budget_year_ratio:"
      ],
      "metadata": {
        "id": "tsA4nnJziuAO"
      }
    },
    {
      "cell_type": "code",
      "source": [
        "MEAN = train_data['budget_year_ratio'].mean()\n",
        "train_data['budget_year_ratio']= train_data['budget_year_ratio'].apply(lambda x : x+MEAN if x<100000  else x)\n",
        "train_data['log_budget_year_ratio'] = np.log1p(train_data['budget_year_ratio'])\n",
        "test_data['log_budget_year_ratio'] = np.log1p(test_data['budget_year_ratio'])"
      ],
      "metadata": {
        "id": "H68nCvZ8jZje"
      },
      "execution_count": 13,
      "outputs": []
    },
    {
      "cell_type": "markdown",
      "source": [
        "Choose the features, use mean imputation for missing values and feed to the **Random forest regressor model** and print the MAE and R2 score on training set"
      ],
      "metadata": {
        "id": "xb8zcF3-j7Eb"
      }
    },
    {
      "cell_type": "code",
      "source": [
        "y = train_data.revenue\n",
        "features = ['log_budget','log_budget_year_ratio','popularity',\"runtime\",\"high_value\",\"has_collection\",\"homepage\",\"Adventure\"]\n",
        "train_x = train_data[features]\n",
        "test_id = test_data[\"id\"]\n",
        "test_x = test_data[features]\n",
        "imputer = SimpleImputer(missing_values=np.nan, strategy='mean')\n",
        "imputer = imputer.fit(train_x)\n",
        "train_x = imputer.transform(train_x)\n",
        "imputer = imputer.fit(test_x)\n",
        "test_x = imputer.transform(test_x)\n",
        "Rf_model = RandomForestRegressor(random_state=1)\n",
        "Rf_model.fit(train_x,y)\n",
        "Rf_predictions_train = Rf_model.predict(train_x)\n",
        "print(mean_absolute_error(Rf_predictions_train,y))\n",
        "print(r2_score(Rf_predictions_train,y))\n"
      ],
      "metadata": {
        "colab": {
          "base_uri": "https://localhost:8080/"
        },
        "id": "8lSWiKGLj7t8",
        "outputId": "e0a25222-f17a-4ca4-bde7-27664c3b76e6"
      },
      "execution_count": 14,
      "outputs": [
        {
          "output_type": "stream",
          "name": "stdout",
          "text": [
            "18514852.638516966\n",
            "0.943674965129391\n"
          ]
        }
      ]
    },
    {
      "cell_type": "markdown",
      "source": [
        "Predict on test set and save the submission file"
      ],
      "metadata": {
        "id": "8meowZnony9K"
      }
    },
    {
      "cell_type": "code",
      "source": [
        "Rf_predictions_test = Rf_model.predict(test_x)\n",
        "file_to_submit = pd.DataFrame({'id': test_id, 'revenue':Rf_predictions_test})\n",
        "file_to_submit = file_to_submit[['id', 'revenue']]\n",
        "file_to_submit.to_csv(\"file_to_submit.csv\", index=False)"
      ],
      "metadata": {
        "id": "FOFTwI__n3n9"
      },
      "execution_count": 15,
      "outputs": []
    }
  ]
}